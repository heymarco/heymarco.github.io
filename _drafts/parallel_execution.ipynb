{
 "cells": [
  {
   "cell_type": "markdown",
   "metadata": {},
   "source": [
    "# Parallelizing scientific experiments\n",
    "\n",
    "In this blog post, I want to show my approach to parallelize scientific experiments using Python multiprocessing. While there may be other (better) methods to do this, the procedure described here has proven to be effective for me. We will evaluate Decision Trees and Random Forests on the Arrhythmia and Wisconsin Breast Cancer datasets.\n",
    "\n",
    "In a nutshell, evaluating machine learning algorithms typically requires\n",
    "1. comparing ones own algorithm to the state of the art.\n",
    "2. repeating an experiment multiple times to obtain reliable results.\n",
    "\n",
    "The most inefficient way to do this is to loop over all algorithms, data sets, and experiment repetitions or folds. A more efficient method is to parallelize one of the loops. However, this still leaves us with a substantial amount of sequential processing. The most efficient solution lies in allowing the system to concurrently execute all algorithm-dataset-fold combinations in parallel.\n",
    "\n",
    "## Setting up algorithm and dataset dictionaries:\n",
    "\n",
    "To begin, we need to set up two dictionaries that contain the algorithms and data sets we wish to utilize for our evaluation. For this purpose, we will retrieve the datasets from openml, a popular platform for sharing machine learning datasets."
   ]
  },
  {
   "cell_type": "code",
   "execution_count": 1,
   "outputs": [],
   "source": [
    "import copy\n",
    "import pandas as pd\n",
    "from sklearn.model_selection import KFold\n",
    "from sklearn.tree import DecisionTreeClassifier\n",
    "from sklearn.ensemble import RandomForestClassifier\n",
    "from sklearn.datasets import fetch_openml\n",
    "\n",
    "def load_dataset_with_id(id):\n",
    "    ds = fetch_openml(data_id=id)\n",
    "    # For this example we simply get rid of attributes that contain nans.\n",
    "    # Note that this is, in general, not best practice!\n",
    "    data = ds.data.dropna(axis=1)\n",
    "    target = ds.target\n",
    "    return data, target\n",
    "\n",
    "algs = {\"Decision Tree\": DecisionTreeClassifier(random_state=0),\n",
    "        \"Random Forest\": RandomForestClassifier(random_state=0)}\n",
    "\n",
    "datasets = {\n",
    "    \"Arrhythmia\": load_dataset_with_id(5),\n",
    "    \"Wisconsin Breast Cancer\": load_dataset_with_id(1510),\n",
    "}"
   ],
   "metadata": {
    "collapsed": false,
    "ExecuteTime": {
     "end_time": "2023-07-11T13:51:01.890013200Z",
     "start_time": "2023-07-11T13:51:01.577526200Z"
    }
   }
  },
  {
   "cell_type": "markdown",
   "source": [
    "We also define some macros for the columns of the data frame that will contain the experiment results:"
   ],
   "metadata": {
    "collapsed": false
   }
  },
  {
   "cell_type": "code",
   "execution_count": 2,
   "outputs": [],
   "source": [
    "ALGORITHM = \"Algorithm\"\n",
    "DATASET = \"Dataset\"\n",
    "FOLD = \"Fold\"\n",
    "ACCURACY = \"Accuracy\"\n",
    "STD = \"Standard deviation\"\n",
    "\n",
    "dataframe_columns = [ALGORITHM, DATASET, FOLD, ACCURACY]"
   ],
   "metadata": {
    "collapsed": false,
    "ExecuteTime": {
     "end_time": "2023-07-11T13:51:01.895598300Z",
     "start_time": "2023-07-11T13:51:01.890013200Z"
    }
   }
  },
  {
   "cell_type": "markdown",
   "source": [
    "## Sequential execution\n",
    "\n",
    "The following code loops over all algorithms in the `algs` dictionary, over all datasets in the `datasets` dictionary, and performs 10-fold cross validation. We then store the outcome `[alg_name, datasets_name, fold, accuracy]` in the result list. Afterwards, we convert `result` to a dataframe."
   ],
   "metadata": {
    "collapsed": false
   }
  },
  {
   "cell_type": "code",
   "execution_count": 3,
   "metadata": {
    "ExecuteTime": {
     "end_time": "2023-07-11T13:51:05.952947400Z",
     "start_time": "2023-07-11T13:51:01.904107500Z"
    }
   },
   "outputs": [
    {
     "name": "stdout",
     "output_type": "stream",
     "text": [
      "CPU times: user 4 s, sys: 46.9 ms, total: 4.05 s\n",
      "Wall time: 4.03 s\n"
     ]
    }
   ],
   "source": [
    "%%time\n",
    "n_folds = 10\n",
    "result = []\n",
    "for alg_name, alg_blueprint in algs.items():\n",
    "    alg = copy.deepcopy(alg_blueprint)\n",
    "    for datasets_name, (X, y) in datasets.items():\n",
    "        cv = KFold(n_splits=n_folds, shuffle=True, random_state=0)\n",
    "        for fold, (train_indices, test_indices) in enumerate(cv.split(X, y)):\n",
    "            X_train, y_train = X.iloc[train_indices], y.iloc[train_indices]\n",
    "            X_test, y_test = X.iloc[test_indices], y.iloc[test_indices]\n",
    "            alg.fit(X_train, y_train)\n",
    "            accuracy = alg.score(X_test, y_test)\n",
    "            result.append([alg_name, datasets_name, fold, accuracy])"
   ]
  },
  {
   "cell_type": "code",
   "execution_count": 4,
   "outputs": [
    {
     "data": {
      "text/plain": "                                       Accuracy  Standard deviation\nDataset                 Algorithm                                  \nArrhythmia              Decision Tree      0.57                0.08\n                        Random Forest      0.71                0.07\nWisconsin Breast Cancer Decision Tree      0.92                0.04\n                        Random Forest      0.96                0.04",
      "text/html": "<div>\n<style scoped>\n    .dataframe tbody tr th:only-of-type {\n        vertical-align: middle;\n    }\n\n    .dataframe tbody tr th {\n        vertical-align: top;\n    }\n\n    .dataframe thead th {\n        text-align: right;\n    }\n</style>\n<table border=\"1\" class=\"dataframe\">\n  <thead>\n    <tr style=\"text-align: right;\">\n      <th></th>\n      <th></th>\n      <th>Accuracy</th>\n      <th>Standard deviation</th>\n    </tr>\n    <tr>\n      <th>Dataset</th>\n      <th>Algorithm</th>\n      <th></th>\n      <th></th>\n    </tr>\n  </thead>\n  <tbody>\n    <tr>\n      <th rowspan=\"2\" valign=\"top\">Arrhythmia</th>\n      <th>Decision Tree</th>\n      <td>0.57</td>\n      <td>0.08</td>\n    </tr>\n    <tr>\n      <th>Random Forest</th>\n      <td>0.71</td>\n      <td>0.07</td>\n    </tr>\n    <tr>\n      <th rowspan=\"2\" valign=\"top\">Wisconsin Breast Cancer</th>\n      <th>Decision Tree</th>\n      <td>0.92</td>\n      <td>0.04</td>\n    </tr>\n    <tr>\n      <th>Random Forest</th>\n      <td>0.96</td>\n      <td>0.04</td>\n    </tr>\n  </tbody>\n</table>\n</div>"
     },
     "execution_count": 4,
     "metadata": {},
     "output_type": "execute_result"
    }
   ],
   "source": [
    "result = pd.DataFrame(result, columns=dataframe_columns)\n",
    "mean_df = result.drop(FOLD, axis=1).groupby([DATASET, ALGORITHM]).mean().round(2)\n",
    "std_df = result.drop(FOLD, axis=1).groupby([DATASET, ALGORITHM]).std().round(2).rename({ACCURACY: STD}, axis=1)\n",
    "pd.concat([mean_df, std_df], axis=1)"
   ],
   "metadata": {
    "collapsed": false,
    "ExecuteTime": {
     "end_time": "2023-07-11T13:51:05.955019900Z",
     "start_time": "2023-07-11T13:51:05.949841500Z"
    }
   }
  },
  {
   "cell_type": "markdown",
   "metadata": {},
   "source": [
    "Needless to say, this sequential approach is very slow! So let's get rid of the nested loops and use multiprocessing instead.\n",
    "\n",
    "## Parallel execution\n",
    "\n",
    "Let's define an `evaluate_alg` function that evaluates an algorithm `alg` on a single fold (basically, it wraps lines 8-11 in the code above). Later on, we execute multiple calls of this function in parallel.:"
   ]
  },
  {
   "cell_type": "code",
   "execution_count": 5,
   "metadata": {
    "ExecuteTime": {
     "end_time": "2023-07-11T13:51:05.960388300Z",
     "start_time": "2023-07-11T13:51:05.957078Z"
    }
   },
   "outputs": [],
   "source": [
    "def evaluate_alg(alg, X, y, train_indices, test_indices):\n",
    "    X_train, y_train = X.iloc[train_indices], y.iloc[train_indices]\n",
    "    X_test, y_test = X.iloc[test_indices], y.iloc[test_indices]\n",
    "    alg.fit(X_train, y_train)\n",
    "    accuracy = alg.score(X_test, y_test)\n",
    "    return accuracy"
   ]
  },
  {
   "cell_type": "markdown",
   "metadata": {},
   "source": [
    "Now let's create two lists; this is where it gets interesting:\n",
    "1. `config_list`: a list of lists that allows us to map the results of our experiment to algorithm-dataset-fold combinations.\n",
    "2. `arguments_list`: a list of lists where each entry corresponds to a list of parameters that we can pass to `evaluate_alg`\n",
    "\n",
    "Later on, we will join `config_list` with the results from parallel execution to obtain the final dataframe.\n",
    "\n",
    "We create the lists with the code below. Essentially, we loop over all algorithms, datasets and folds and store their combination for later."
   ]
  },
  {
   "cell_type": "code",
   "execution_count": 6,
   "metadata": {
    "ExecuteTime": {
     "end_time": "2023-07-11T13:51:05.969585Z",
     "start_time": "2023-07-11T13:51:05.965482100Z"
    }
   },
   "outputs": [],
   "source": [
    "config_list = []\n",
    "arguments_list = []\n",
    "for alg_name, alg_blueprint in algs.items():\n",
    "    alg = copy.deepcopy(alg_blueprint)\n",
    "    for ds_name, (X, y) in datasets.items():\n",
    "        cv = KFold(n_splits=n_folds, shuffle=True, random_state=0)\n",
    "        for fold, (train_indices, test_indices) in enumerate(cv.split(X, y)):\n",
    "            config_list.append([\n",
    "                alg_name, ds_name, fold\n",
    "            ])\n",
    "            arguments_list.append([\n",
    "                alg, X, y, train_indices, test_indices\n",
    "            ])"
   ]
  },
  {
   "cell_type": "markdown",
   "metadata": {},
   "source": [
    "To parallelize our experiment, we now define a function called `run_async`. This function takes several parameters:\n",
    "\n",
    "1. `function`: The function we want to execute in parallel.\n",
    "2. `args_list`: A list of lists containing the arguments for each function execution.\n",
    "3. `num_jobs`: The number of jobs to utilize during the parallelization process.\n",
    "4. `sleep_time`: A configurable sleep time that determines how frequently we check if the function executions are completed.\n",
    "\n",
    "It is crucial for `run_async` to return the results in the same order as specified by the `args_list`. This ensures that we can accurately map the results to the corresponding configurations stored in `config_list`."
   ]
  },
  {
   "cell_type": "code",
   "execution_count": 7,
   "metadata": {
    "ExecuteTime": {
     "end_time": "2023-07-11T13:51:05.975137Z",
     "start_time": "2023-07-11T13:51:05.969585Z"
    }
   },
   "outputs": [],
   "source": [
    "from time import sleep\n",
    "from multiprocessing import Pool\n",
    "\n",
    "\n",
    "def run_async(function, args_list, njobs, sleep_time_s = 0.01):\n",
    "    pool = Pool(njobs)\n",
    "    results = [pool.apply_async(function, args=args) for args in args_list]\n",
    "    while not all(future.ready() for future in results):\n",
    "        sleep(sleep_time_s)\n",
    "    results = [result.get() for result in results]\n",
    "    pool.close()\n",
    "    return results"
   ]
  },
  {
   "cell_type": "markdown",
   "metadata": {},
   "source": [
    "Finally, let us run our experiment in parallel by passing the function `evaluate_alg`, the list of arguments for that function `arguments_list`, and the number of jobs to use for multiprocessing to `run_async`:"
   ]
  },
  {
   "cell_type": "code",
   "execution_count": 8,
   "outputs": [],
   "source": [
    "from multiprocessing import cpu_count\n",
    "njobs = cpu_count()"
   ],
   "metadata": {
    "collapsed": false,
    "ExecuteTime": {
     "end_time": "2023-07-11T13:51:05.979842900Z",
     "start_time": "2023-07-11T13:51:05.975137Z"
    }
   }
  },
  {
   "cell_type": "code",
   "execution_count": 9,
   "metadata": {
    "ExecuteTime": {
     "end_time": "2023-07-11T13:51:07.622959500Z",
     "start_time": "2023-07-11T13:51:05.979842900Z"
    }
   },
   "outputs": [
    {
     "name": "stdout",
     "output_type": "stream",
     "text": [
      "CPU times: user 109 ms, sys: 422 ms, total: 531 ms\n",
      "Wall time: 1.64 s\n"
     ]
    }
   ],
   "source": [
    "%%time\n",
    "\n",
    "accuracies = run_async(evaluate_alg, arguments_list, njobs=njobs)\n",
    "\n",
    "for config, accuracy in zip(config_list, accuracies):\n",
    "    config.append(accuracy)"
   ]
  },
  {
   "cell_type": "markdown",
   "metadata": {},
   "source": [
    "We can now join the `accuracies` with the previously created `config_list` and create our final dataframe:"
   ]
  },
  {
   "cell_type": "code",
   "execution_count": 10,
   "metadata": {
    "ExecuteTime": {
     "end_time": "2023-07-11T13:51:07.648130400Z",
     "start_time": "2023-07-11T13:51:07.631503900Z"
    }
   },
   "outputs": [
    {
     "data": {
      "text/plain": "                                       Accuracy  Standard deviation\nDataset                 Algorithm                                  \nArrhythmia              Decision Tree      0.57                0.08\n                        Random Forest      0.71                0.07\nWisconsin Breast Cancer Decision Tree      0.92                0.04\n                        Random Forest      0.96                0.04",
      "text/html": "<div>\n<style scoped>\n    .dataframe tbody tr th:only-of-type {\n        vertical-align: middle;\n    }\n\n    .dataframe tbody tr th {\n        vertical-align: top;\n    }\n\n    .dataframe thead th {\n        text-align: right;\n    }\n</style>\n<table border=\"1\" class=\"dataframe\">\n  <thead>\n    <tr style=\"text-align: right;\">\n      <th></th>\n      <th></th>\n      <th>Accuracy</th>\n      <th>Standard deviation</th>\n    </tr>\n    <tr>\n      <th>Dataset</th>\n      <th>Algorithm</th>\n      <th></th>\n      <th></th>\n    </tr>\n  </thead>\n  <tbody>\n    <tr>\n      <th rowspan=\"2\" valign=\"top\">Arrhythmia</th>\n      <th>Decision Tree</th>\n      <td>0.57</td>\n      <td>0.08</td>\n    </tr>\n    <tr>\n      <th>Random Forest</th>\n      <td>0.71</td>\n      <td>0.07</td>\n    </tr>\n    <tr>\n      <th rowspan=\"2\" valign=\"top\">Wisconsin Breast Cancer</th>\n      <th>Decision Tree</th>\n      <td>0.92</td>\n      <td>0.04</td>\n    </tr>\n    <tr>\n      <th>Random Forest</th>\n      <td>0.96</td>\n      <td>0.04</td>\n    </tr>\n  </tbody>\n</table>\n</div>"
     },
     "execution_count": 10,
     "metadata": {},
     "output_type": "execute_result"
    }
   ],
   "source": [
    "result = pd.DataFrame(config_list, columns=dataframe_columns)\n",
    "mean_df = result.drop(FOLD, axis=1).groupby([DATASET, ALGORITHM]).mean().round(2)\n",
    "std_df = result.drop(FOLD, axis=1).groupby([DATASET, ALGORITHM]).std().round(2).rename({ACCURACY: STD}, axis=1)\n",
    "pd.concat([mean_df, std_df], axis=1)"
   ]
  },
  {
   "cell_type": "markdown",
   "source": [
    "## Plotting the results\n",
    "\n",
    "Last, let us use seaborn to visualize our results:"
   ],
   "metadata": {
    "collapsed": false
   }
  },
  {
   "cell_type": "code",
   "execution_count": 11,
   "outputs": [
    {
     "data": {
      "text/plain": "<Figure size 500x300 with 1 Axes>",
      "image/png": "[encoded data removed]"
     },
     "metadata": {},
     "output_type": "display_data"
    }
   ],
   "source": [
    "import seaborn as sns\n",
    "import matplotlib.pyplot as plt\n",
    "sns.set()\n",
    "\n",
    "sns.barplot(data=result, x=DATASET, y=ACCURACY, hue=ALGORITHM, errorbar=\"sd\")\n",
    "plt.gcf().set_size_inches((5, 3))\n",
    "plt.show()"
   ],
   "metadata": {
    "collapsed": false,
    "ExecuteTime": {
     "end_time": "2023-07-11T13:51:07.908773200Z",
     "start_time": "2023-07-11T13:51:07.650176700Z"
    }
   }
  },
  {
   "cell_type": "markdown",
   "source": [
    "## Conclusion\n",
    "\n",
    "This post describes one way of leveraging multiprocessing to speed up machine learning experiments. I like about this method that it creates a clear structure in the script: 1) set up the experiment, 2) run the experiment using multiprocessing, 3) obtain the result once every execution has finished. I found this to improve the maintainability and readability of my code. You can check out this [gist](https://gist.github.com/heymarco/0dea6fc8121b8639d8702687a97a8c54) for a minimal working example of what I have shown in this post.\n",
    "\n",
    "On my Thinkpad P14s with 8 cores and 16 threads, parallel execution speeds up sequential execution by a factor of around 2.5; machines with a greater number of CPU cores will achieve an even higher speedup.\n",
    "\n",
    "In my upcoming post, I will describe how I log my scientific experiments. Stay tuned!"
   ],
   "metadata": {
    "collapsed": false
   }
  }
 ],
 "metadata": {
  "kernelspec": {
   "display_name": "Python 3 (ipykernel)",
   "language": "python",
   "name": "python3"
  },
  "language_info": {
   "codemirror_mode": {
    "name": "ipython",
    "version": 3
   },
   "file_extension": ".py",
   "mimetype": "text/x-python",
   "name": "python",
   "nbconvert_exporter": "python",
   "pygments_lexer": "ipython3",
   "version": "3.7.10"
  }
 },
 "nbformat": 4,
 "nbformat_minor": 1
}
