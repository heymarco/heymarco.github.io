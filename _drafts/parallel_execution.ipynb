{
 "cells": [
  {
   "cell_type": "markdown",
   "metadata": {},
   "source": [
    "# Parallelizing scientific experiments\n",
    "\n",
    "In this blog post, I want to show my approach to parallelize scientific experiments using Python multiprocessing. While there may be other (better) methods to do this, the procedure described here has proven to be effective for me. We will evaluate Decision Trees and Random Forests on the Arrhythmia and Wisconsin Breast Cancer datasets.\n",
    "\n",
    "In a nutshell, evaluating machine learning algorithms typically requires\n",
    "1. comparing ones own algorithm to the state of the art.\n",
    "2. repeating an experiment multiple times to obtain reliable results.\n",
    "\n",
    "The most inefficient way to do this is to loop over all algorithms, data sets, and experiment repetitions or folds. A more efficient method is to parallelize one of the loops. However, this still leaves us with a substantial amount of sequential processing. The most efficient solution lies in eliminating these loops entirely and allowing the system to concurrently execute all algorithm-dataset-fold combinations in parallel.\n",
    "\n",
    "## Setting up algorithm and dataset dictionaries:\n",
    "\n",
    "To begin, we need to set up two dictionaries that contain the algorithms and data sets we wish to utilize for our evaluation. For this purpose, we will retrieve the datasets from openml, a popular platform for sharing machine learning datasets."
   ]
  },
  {
   "cell_type": "code",
   "execution_count": 1,
   "outputs": [],
   "source": [
    "import copy\n",
    "\n",
    "import pandas as pd\n",
    "from sklearn.model_selection import KFold\n",
    "from sklearn.tree import DecisionTreeClassifier\n",
    "from sklearn.ensemble import RandomForestClassifier\n",
    "from sklearn.datasets import fetch_openml\n",
    "\n",
    "def load_dataset_with_id(id):\n",
    "    ds = fetch_openml(data_id=id)\n",
    "    # For this example we simply get rid of attributes that contain nans.\n",
    "    # Note that this is, in general, not best practice!\n",
    "    data = ds.data.dropna(axis=1)\n",
    "    target = ds.target\n",
    "    return data, target\n",
    "\n",
    "algs = {\"Decision Tree\": DecisionTreeClassifier(random_state=0),\n",
    "        \"Random Forest\": RandomForestClassifier(random_state=0)}\n",
    "datasets = {\n",
    "    \"Arrhythmia\": load_dataset_with_id(5),\n",
    "    \"Wisconsin Breast Cancer\": load_dataset_with_id(1510),\n",
    "}"
   ],
   "metadata": {
    "collapsed": false,
    "ExecuteTime": {
     "end_time": "2023-07-11T09:43:37.839068800Z",
     "start_time": "2023-07-11T09:43:37.515899800Z"
    }
   }
  },
  {
   "cell_type": "markdown",
   "source": [
    "We also define some macros for the columns of the data frame that will contain the experiment results:"
   ],
   "metadata": {
    "collapsed": false
   }
  },
  {
   "cell_type": "code",
   "execution_count": 2,
   "outputs": [],
   "source": [
    "ALGORITHM = \"Algorithm\"\n",
    "DATASET = \"Dataset\"\n",
    "FOLD = \"Fold\"\n",
    "ACCURACY = \"Accuracy\"\n",
    "\n",
    "dataframe_columns = [ALGORITHM, DATASET, FOLD, ACCURACY]"
   ],
   "metadata": {
    "collapsed": false,
    "ExecuteTime": {
     "end_time": "2023-07-11T09:43:37.843249100Z",
     "start_time": "2023-07-11T09:43:37.842293600Z"
    }
   }
  },
  {
   "cell_type": "markdown",
   "source": [
    "## Sequential execution\n",
    "\n",
    "The following code loops over all algorithms in the `algs` dictionary, over all datasets in the `datasets` dictionary, and performs 100-fold cross validation. We then store the outcome `[alg_name, datasets_name, fold, accuracy]` in the result list. Afterwards, we convert `result` to a dataframe."
   ],
   "metadata": {
    "collapsed": false
   }
  },
  {
   "cell_type": "code",
   "execution_count": 3,
   "metadata": {
    "ExecuteTime": {
     "end_time": "2023-07-11T09:44:22.923290600Z",
     "start_time": "2023-07-11T09:43:37.848254900Z"
    }
   },
   "outputs": [
    {
     "data": {
      "text/plain": "                                       Accuracy\nDataset                 Algorithm              \nArrhythmia              Decision Tree      0.56\n                        Random Forest      0.72\nWisconsin Breast Cancer Decision Tree      0.92\n                        Random Forest      0.96",
      "text/html": "<div>\n<style scoped>\n    .dataframe tbody tr th:only-of-type {\n        vertical-align: middle;\n    }\n\n    .dataframe tbody tr th {\n        vertical-align: top;\n    }\n\n    .dataframe thead th {\n        text-align: right;\n    }\n</style>\n<table border=\"1\" class=\"dataframe\">\n  <thead>\n    <tr style=\"text-align: right;\">\n      <th></th>\n      <th></th>\n      <th>Accuracy</th>\n    </tr>\n    <tr>\n      <th>Dataset</th>\n      <th>Algorithm</th>\n      <th></th>\n    </tr>\n  </thead>\n  <tbody>\n    <tr>\n      <th rowspan=\"2\" valign=\"top\">Arrhythmia</th>\n      <th>Decision Tree</th>\n      <td>0.56</td>\n    </tr>\n    <tr>\n      <th>Random Forest</th>\n      <td>0.72</td>\n    </tr>\n    <tr>\n      <th rowspan=\"2\" valign=\"top\">Wisconsin Breast Cancer</th>\n      <th>Decision Tree</th>\n      <td>0.92</td>\n    </tr>\n    <tr>\n      <th>Random Forest</th>\n      <td>0.96</td>\n    </tr>\n  </tbody>\n</table>\n</div>"
     },
     "execution_count": 3,
     "metadata": {},
     "output_type": "execute_result"
    }
   ],
   "source": [
    "n_folds = 100\n",
    "result = []\n",
    "for alg_name, alg_blueprint in algs.items():\n",
    "    alg = copy.deepcopy(alg_blueprint)\n",
    "    for datasets_name, (X, y) in datasets.items():\n",
    "        cv = KFold(n_splits=n_folds, shuffle=True, random_state=0)\n",
    "        for fold, (train_indices, test_indices) in enumerate(cv.split(X, y)):\n",
    "            X_train, y_train = X.iloc[train_indices], y.iloc[train_indices]\n",
    "            X_test, y_test = X.iloc[test_indices], y.iloc[test_indices]\n",
    "            alg.fit(X_train, y_train)\n",
    "            accuracy = alg.score(X_test, y_test)\n",
    "            result.append([alg_name, datasets_name, fold, accuracy])\n",
    "\n",
    "result = pd.DataFrame(result, columns=dataframe_columns)\n",
    "result.drop(FOLD, axis=1).groupby([DATASET, ALGORITHM]).mean().round(2)"
   ]
  },
  {
   "cell_type": "markdown",
   "metadata": {},
   "source": [
    "Needless to say, this sequential approach is very slow! So let's get rid of the nested loops and use multiprocessing instead.\n",
    "\n",
    "### Parallel execution\n",
    "\n",
    "Let's define an `evaluate_alg` function that evaluates an algorithm `alg` on a single fold (basically, it wraps lines 8-11 in the code above). Later on, we execute multiple calls of this function in parallel.:"
   ]
  },
  {
   "cell_type": "code",
   "execution_count": 4,
   "metadata": {
    "ExecuteTime": {
     "end_time": "2023-07-11T09:44:22.928040300Z",
     "start_time": "2023-07-11T09:44:22.926041400Z"
    }
   },
   "outputs": [],
   "source": [
    "def evaluate_alg(alg, X, y, train_indices, test_indices):\n",
    "    X_train, y_train = X.iloc[train_indices], y.iloc[train_indices]\n",
    "    X_test, y_test = X.iloc[test_indices], y.iloc[test_indices]\n",
    "    alg.fit(X_train, y_train)\n",
    "    accuracy = alg.score(X_test, y_test)\n",
    "    return accuracy"
   ]
  },
  {
   "cell_type": "markdown",
   "metadata": {},
   "source": [
    "Now let's create two lists; this is where it gets interesting:\n",
    "1. `config_list`: a list of lists that allows us to map the results of our experiment to algorithm-dataset-fold combinations.\n",
    "2. `arguments_list`: a list of lists where each entry corresponds to a list of parameters that we can pass to `evaluate_alg`\n",
    "\n",
    "Later on, we will join `config_list` with the results from parallel execution to obtain the final dataframe.\n",
    "\n",
    "We create the lists with the code below. Essentially, we loop over all algorithms, datasets and folds and store their combination for later."
   ]
  },
  {
   "cell_type": "code",
   "execution_count": 5,
   "metadata": {
    "ExecuteTime": {
     "end_time": "2023-07-11T09:44:22.941493400Z",
     "start_time": "2023-07-11T09:44:22.931040200Z"
    }
   },
   "outputs": [],
   "source": [
    "config_list = []\n",
    "arguments_list = []\n",
    "for alg_name, alg_blueprint in algs.items():\n",
    "    alg = copy.deepcopy(alg_blueprint)\n",
    "    for ds_name, (X, y) in datasets.items():\n",
    "        cv = KFold(n_splits=n_folds, shuffle=True, random_state=0)\n",
    "        for fold, (train_indices, test_indices) in enumerate(cv.split(X, y)):\n",
    "            config_list.append([\n",
    "                alg_name, ds_name, fold\n",
    "            ])\n",
    "            arguments_list.append([\n",
    "                alg, X, y, train_indices, test_indices\n",
    "            ])"
   ]
  },
  {
   "cell_type": "markdown",
   "metadata": {},
   "source": [
    "To parallelize our experiment, we now define a function called `run_async`. This function takes several parameters:\n",
    "\n",
    "1. `function`: The function we want to execute in parallel.\n",
    "2. `args_list`: A list of lists containing the arguments for each function execution.\n",
    "3. `num_jobs`: The number of jobs to utilize during the parallelization process.\n",
    "4. `sleep_time`: A configurable sleep time that determines how frequently we check if the function executions are completed.\n",
    "\n",
    "It is crucial for `run_async` to return the results in the same order as specified by the `args_list`. This ensures that we can accurately map the results to the corresponding configurations stored in `config_list`."
   ]
  },
  {
   "cell_type": "code",
   "execution_count": 6,
   "metadata": {
    "ExecuteTime": {
     "end_time": "2023-07-11T09:44:22.947117Z",
     "start_time": "2023-07-11T09:44:22.945106700Z"
    }
   },
   "outputs": [],
   "source": [
    "from time import sleep\n",
    "from multiprocessing import Pool\n",
    "\n",
    "\n",
    "def run_async(function, args_list, njobs, sleep_time_s = 0.01):\n",
    "    pool = Pool(njobs)\n",
    "    results = {i: pool.apply_async(function, args=args)\n",
    "               for i, args in enumerate(args_list)}\n",
    "    while not all(future.ready() for future in results.values()):\n",
    "        sleep(sleep_time_s)\n",
    "    results = [results[i].get() for i in range(len(results))]\n",
    "    pool.close()\n",
    "    return results"
   ]
  },
  {
   "cell_type": "markdown",
   "metadata": {},
   "source": [
    "Finally, let us run our experiment in parallel by passing the function `evaluate_alg`, the list of arguments for that function `arguments_list`, and the number of jobs to use for multiprocessing to `run_async`:"
   ]
  },
  {
   "cell_type": "code",
   "execution_count": 7,
   "metadata": {
    "ExecuteTime": {
     "end_time": "2023-07-11T09:44:33.217510400Z",
     "start_time": "2023-07-11T09:44:22.954117Z"
    }
   },
   "outputs": [],
   "source": [
    "from multiprocessing import cpu_count\n",
    "\n",
    "njobs = cpu_count()\n",
    "accuracies = run_async(evaluate_alg, arguments_list, njobs=njobs)"
   ]
  },
  {
   "cell_type": "markdown",
   "metadata": {},
   "source": [
    "We can now join the `accuracies` with the previously created `config_list` and create our final dataframe:"
   ]
  },
  {
   "cell_type": "code",
   "execution_count": 8,
   "metadata": {
    "ExecuteTime": {
     "end_time": "2023-07-11T09:44:33.235097Z",
     "start_time": "2023-07-11T09:44:33.226510600Z"
    }
   },
   "outputs": [
    {
     "data": {
      "text/plain": "                                       Accuracy\nDataset                 Algorithm              \nArrhythmia              Decision Tree      0.56\n                        Random Forest      0.72\nWisconsin Breast Cancer Decision Tree      0.92\n                        Random Forest      0.96",
      "text/html": "<div>\n<style scoped>\n    .dataframe tbody tr th:only-of-type {\n        vertical-align: middle;\n    }\n\n    .dataframe tbody tr th {\n        vertical-align: top;\n    }\n\n    .dataframe thead th {\n        text-align: right;\n    }\n</style>\n<table border=\"1\" class=\"dataframe\">\n  <thead>\n    <tr style=\"text-align: right;\">\n      <th></th>\n      <th></th>\n      <th>Accuracy</th>\n    </tr>\n    <tr>\n      <th>Dataset</th>\n      <th>Algorithm</th>\n      <th></th>\n    </tr>\n  </thead>\n  <tbody>\n    <tr>\n      <th rowspan=\"2\" valign=\"top\">Arrhythmia</th>\n      <th>Decision Tree</th>\n      <td>0.56</td>\n    </tr>\n    <tr>\n      <th>Random Forest</th>\n      <td>0.72</td>\n    </tr>\n    <tr>\n      <th rowspan=\"2\" valign=\"top\">Wisconsin Breast Cancer</th>\n      <th>Decision Tree</th>\n      <td>0.92</td>\n    </tr>\n    <tr>\n      <th>Random Forest</th>\n      <td>0.96</td>\n    </tr>\n  </tbody>\n</table>\n</div>"
     },
     "execution_count": 8,
     "metadata": {},
     "output_type": "execute_result"
    }
   ],
   "source": [
    "for config, accuracy in zip(config_list, accuracies):\n",
    "    config.append(accuracy)\n",
    "result = pd.DataFrame(config_list, columns=dataframe_columns)\n",
    "result.drop(FOLD, axis=1).groupby([DATASET, ALGORITHM]).mean().round(2)"
   ]
  },
  {
   "cell_type": "markdown",
   "source": [
    "## Plotting the results\n",
    "\n",
    "Last, let us use seaborn to visualize our results:"
   ],
   "metadata": {
    "collapsed": false
   }
  },
  {
   "cell_type": "code",
   "execution_count": 9,
   "outputs": [
    {
     "data": {
      "text/plain": "<Figure size 500x300 with 1 Axes>",
      "image/png": "[encoded data removed]"
     },
     "metadata": {},
     "output_type": "display_data"
    }
   ],
   "source": [
    "import seaborn as sns\n",
    "import matplotlib.pyplot as plt\n",
    "sns.set()\n",
    "\n",
    "sns.barplot(data=result, x=DATASET, y=ACCURACY, hue=ALGORITHM)\n",
    "plt.gcf().set_size_inches((5, 3))\n",
    "plt.show()"
   ],
   "metadata": {
    "collapsed": false,
    "ExecuteTime": {
     "end_time": "2023-07-11T09:44:33.559826400Z",
     "start_time": "2023-07-11T09:44:33.241093Z"
    }
   }
  },
  {
   "cell_type": "markdown",
   "source": [
    "## Conclusion\n",
    "\n",
    "On my Thinkpad P14s with 8 cores and 16 threads, parallel execution speeds up sequential execution by a factor of around 4; machines with a greater number of CPU cores will achieve an even higher speedup.\n",
    "\n",
    "Also check out this [gist](https://gist.github.com/heymarco/0dea6fc8121b8639d8702687a97a8c54) for a minimal working example of what I have shown in this post.\n",
    "\n",
    "In my upcoming post, I will describe how I log my scientific experiments. Stay tuned!"
   ],
   "metadata": {
    "collapsed": false
   }
  }
 ],
 "metadata": {
  "kernelspec": {
   "display_name": "Python 3 (ipykernel)",
   "language": "python",
   "name": "python3"
  },
  "language_info": {
   "codemirror_mode": {
    "name": "ipython",
    "version": 3
   },
   "file_extension": ".py",
   "mimetype": "text/x-python",
   "name": "python",
   "nbconvert_exporter": "python",
   "pygments_lexer": "ipython3",
   "version": "3.7.10"
  }
 },
 "nbformat": 4,
 "nbformat_minor": 1
}
